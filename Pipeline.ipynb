{
 "cells": [
  {
   "cell_type": "code",
   "execution_count": 9,
   "metadata": {
    "collapsed": true
   },
   "outputs": [],
   "source": [
    "from codemixeddata import LoadDataSet\n",
    "import posfeatures as pos\n",
    "import lidffeatures as lidf\n",
    "import chunkfeatures as chunk\n",
    "from pipeline import *\n",
    "from customutils import *\n",
    "from sklearn_crfsuite import scorers, metrics, CRF\n",
    "import numpy as np\n",
    "from sklearn.cross_validation import cross_val_score, cross_val_predict\n",
    "from sklearn.pipeline import Pipeline\n",
    "import pandas as pd"
   ]
  },
  {
   "cell_type": "code",
   "execution_count": 10,
   "metadata": {
    "collapsed": true
   },
   "outputs": [],
   "source": [
    "X, y = LoadDataSet(xlabels=['WORD', 'POSITION', 'EPOS', 'EPOSSCORE', 'LANG', 'POS'], ylabel='CHUNK')"
   ]
  },
  {
   "cell_type": "code",
   "execution_count": 11,
   "metadata": {
    "collapsed": true
   },
   "outputs": [],
   "source": [
    "lidf_features = FeatureStacker([('lex', lidf.AddLexTransformer()),\n",
    "                                ('bnc_count', lidf.BNCCountsTransformer()),\n",
    "                                ('lex_norm', lidf.LexNormCountsTransformer()),\n",
    "                                ('in_bnc_or_lexnorm', lidf.LexNormBNCSpecialTransformer()),\n",
    "                                ('hindi_dict', lidf.HindiDictionaryCountsTransformer()),\n",
    "                                ('capitalization', lidf.CapitalizationTransformer()),\n",
    "                                ('cngram', lidf.CharacterNgramTransformer()),\n",
    "                                ('en_rest_pos', lidf.PoSTransformer()),\n",
    "                                ('en_rest_pos_confidence', lidf.PoSConfidenceTransformer()),\n",
    "                                ('affixes', pos.AffixesTransformer())\n",
    "                              ])\n",
    "\n",
    "lidf_model = Pipeline([\n",
    "        ('features', lidf_features),\n",
    "        ('classifier', CRF())\n",
    "    ])"
   ]
  },
  {
   "cell_type": "code",
   "execution_count": 12,
   "metadata": {
    "collapsed": true
   },
   "outputs": [],
   "source": [
    "pos_features = FeatureStacker([ ('lex', pos.AddLexTransformer()),\n",
    "                                ('predicted_lang', pos.PredictedLangTransformer()),\n",
    "                                ('en_rest_pos', pos.PoSTransformer()),\n",
    "                                ('en_rest_pos_confidence', pos.PoSConfidenceTransformer()), \n",
    "                                ('context', pos.ContextTransformer()),\n",
    "                                ('affixes', pos.AffixesTransformer()),\n",
    "                                ('en_clusters', pos.HWCTransformer()),\n",
    "                              ])\n",
    "\n",
    "pos_model = Pipeline([\n",
    "        ('features', pos_features),\n",
    "        ('classifier', CRF())\n",
    "    ])"
   ]
  },
  {
   "cell_type": "code",
   "execution_count": 13,
   "metadata": {
    "collapsed": false
   },
   "outputs": [],
   "source": [
    "X = run_step(X, lidf_model, \"LANG\")"
   ]
  },
  {
   "cell_type": "code",
   "execution_count": 14,
   "metadata": {
    "collapsed": false
   },
   "outputs": [],
   "source": [
    "#X = run_step(X, pos_model, \"POS\")"
   ]
  },
  {
   "cell_type": "code",
   "execution_count": 21,
   "metadata": {
    "collapsed": false
   },
   "outputs": [],
   "source": [
    "chunk_features = FeatureStacker([('lex', pos.AddLexTransformer()),\n",
    "                                ('predicted_lang', pos.PredictedLangTransformer()),\n",
    "                                ('en_rest_pos', pos.PoSTransformer()),\n",
    "#                                ('en_rest_pos_confidence', pos.PoSConfidenceTransformer()), \n",
    "#                                ('context', pos.ContextTransformer()),\n",
    "#                                ('affixes', pos.AffixesTransformer()),\n",
    "#                                ('en_clusters', pos.HWCTransformer()),\n",
    "                                ('predicted_pos', chunk.PoSTransformer()),\n",
    "#                                ('pos_context', chunk.POSContextTransformer()),\n",
    "                                ('lex__predicted_pos', chunk.LexPoSTransformer()),\n",
    "                              ])\n",
    "\n",
    "chunk_model = Pipeline([\n",
    "        ('features', chunk_features),\n",
    "        ('classifier', CRF())\n",
    "    ])\n",
    "#chunk_model.set_params(features__affixes__prefix_len=2, features__affixes__suffix_len=2)"
   ]
  },
  {
   "cell_type": "code",
   "execution_count": 22,
   "metadata": {
    "collapsed": false
   },
   "outputs": [],
   "source": [
    "chunk_acc = cross_val_score(chunk_model, X, y, scorers.flat_accuracy, cv=10, n_jobs=-1)"
   ]
  },
  {
   "cell_type": "markdown",
   "metadata": {
    "variables": {
     "'%.2f' % (chunk_acc.mean() * 100)": "65.04"
    }
   },
   "source": [
    "Accuracy {{'%.2f' % (chunk_acc.mean() * 100)}}"
   ]
  }
 ],
 "metadata": {
  "kernelspec": {
   "display_name": "Python 2",
   "language": "python",
   "name": "python2"
  },
  "language_info": {
   "codemirror_mode": {
    "name": "ipython",
    "version": 2
   },
   "file_extension": ".py",
   "mimetype": "text/x-python",
   "name": "python",
   "nbconvert_exporter": "python",
   "pygments_lexer": "ipython2",
   "version": "2.7.10"
  }
 },
 "nbformat": 4,
 "nbformat_minor": 0
}
