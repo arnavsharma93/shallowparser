{
 "cells": [
  {
   "cell_type": "code",
   "execution_count": 1,
   "metadata": {
    "collapsed": true
   },
   "outputs": [],
   "source": [
    "from codemixeddata import LoadDataSet\n",
    "import posfeatures as pos\n",
    "import lidffeatures as lidf\n",
    "import chunkfeatures as chunk\n",
    "from pipeline import *\n",
    "from customutils import *\n",
    "from sklearn_crfsuite import scorers, metrics, CRF\n",
    "import numpy as np\n",
    "from sklearn.cross_validation import cross_val_score, cross_val_predict\n",
    "from sklearn.pipeline import Pipeline\n",
    "import pandas as pd\n",
    "import requests\n"
   ]
  },
  {
   "cell_type": "code",
   "execution_count": 3,
   "metadata": {
    "collapsed": true
   },
   "outputs": [],
   "source": [
    "from converter_indic import wxConvert\n",
    "from irtrans import transliterator"
   ]
  },
  {
   "cell_type": "code",
   "execution_count": 9,
   "metadata": {
    "collapsed": true
   },
   "outputs": [],
   "source": [
    "con = wxConvert(order='utf2wx', lang='hin')\n",
    "trn = transliterator(source='eng', target='hin')"
   ]
  },
  {
   "cell_type": "code",
   "execution_count": 10,
   "metadata": {
    "collapsed": false
   },
   "outputs": [],
   "source": [
    "a = trn.transform('mera naam ram hai')"
   ]
  },
  {
   "cell_type": "code",
   "execution_count": 12,
   "metadata": {
    "collapsed": false
   },
   "outputs": [
    {
     "name": "stdout",
     "output_type": "stream",
     "text": [
      "merA nAma rAma hAI\n"
     ]
    }
   ],
   "source": [
    "print con.convert('merA nAma rAma hAI')"
   ]
  },
  {
   "cell_type": "code",
   "execution_count": 1,
   "metadata": {
    "collapsed": true
   },
   "outputs": [],
   "source": [
    "mapped = '''ADJ:JJ\n",
    "ADJ:JJC\n",
    "ADJ:QO\n",
    "ADP:PSP\n",
    "ADP:PSPC\n",
    "ADV:RB\n",
    "ADV:RBC\n",
    "ADV:INFT\n",
    "ADV:INFTC\n",
    "ADV:NST\n",
    "ADV:WQ \n",
    "ADV:PRP \n",
    "ADV:NN \n",
    "AUX:VAUX\n",
    "AUX:VAUXC\n",
    "CONJ:CC\n",
    "CONJ:CCC\n",
    "DET:DEM\n",
    "DET:QF\n",
    "DET:QFC\n",
    "DET:WQ\n",
    "INTJ:INJ\n",
    "NOUN:NN\n",
    "NOUN:NNC\n",
    "NUM:QC\n",
    "NUM:QCC\n",
    "PART:RP\n",
    "PART:RPC\n",
    "PART:NEG\n",
    "PRON:PRP\n",
    "PRON:PRPC\n",
    "PRON:WQ\n",
    "PROPN:NNP\n",
    "PROPN:NNPC\n",
    "PUNCT:SYM\n",
    "SCONJ:CC\n",
    "SCONJ:CCC\n",
    "VERB:VM\n",
    "VERB:VMC\n",
    "X:UNK'''"
   ]
  },
  {
   "cell_type": "code",
   "execution_count": 5,
   "metadata": {
    "collapsed": false
   },
   "outputs": [
    {
     "name": "stdout",
     "output_type": "stream",
     "text": [
      "WQ PRON DET\n",
      "CC SCONJ CONJ\n",
      "CCC SCONJ CONJ\n"
     ]
    }
   ],
   "source": [
    "mapper = {}\n",
    "for line in mapped.split('\\n'):\n",
    "    univ, ilmt = line.split(':')\n",
    "    if ilmt in mapper:\n",
    "        print ilmt, univ, mapper[ilmt]\n",
    "    else:\n",
    "        mapper[ilmt] = univ"
   ]
  },
  {
   "cell_type": "code",
   "execution_count": 6,
   "metadata": {
    "collapsed": false
   },
   "outputs": [
    {
     "data": {
      "text/plain": [
       "{'CC': 'CONJ',\n",
       " 'CCC': 'CONJ',\n",
       " 'DEM': 'DET',\n",
       " 'INFT': 'ADV',\n",
       " 'INFTC': 'ADV',\n",
       " 'INJ': 'INTJ',\n",
       " 'JJ': 'ADJ',\n",
       " 'JJC': 'ADJ',\n",
       " 'NEG': 'PART',\n",
       " 'NN': 'NOUN',\n",
       " 'NN ': 'ADV',\n",
       " 'NNC': 'NOUN',\n",
       " 'NNP': 'PROPN',\n",
       " 'NNPC': 'PROPN',\n",
       " 'NST': 'ADV',\n",
       " 'PRP': 'PRON',\n",
       " 'PRP ': 'ADV',\n",
       " 'PRPC': 'PRON',\n",
       " 'PSP': 'ADP',\n",
       " 'PSPC': 'ADP',\n",
       " 'QC': 'NUM',\n",
       " 'QCC': 'NUM',\n",
       " 'QF': 'DET',\n",
       " 'QFC': 'DET',\n",
       " 'QO': 'ADJ',\n",
       " 'RB': 'ADV',\n",
       " 'RBC': 'ADV',\n",
       " 'RP': 'PART',\n",
       " 'RPC': 'PART',\n",
       " 'SYM': 'PUNCT',\n",
       " 'UNK': 'X',\n",
       " 'VAUX': 'AUX',\n",
       " 'VAUXC': 'AUX',\n",
       " 'VM': 'VERB',\n",
       " 'VMC': 'VERB',\n",
       " 'WQ': 'DET',\n",
       " 'WQ ': 'ADV'}"
      ]
     },
     "execution_count": 6,
     "metadata": {},
     "output_type": "execute_result"
    }
   ],
   "source": [
    "mapper"
   ]
  },
  {
   "cell_type": "code",
   "execution_count": null,
   "metadata": {
    "collapsed": true
   },
   "outputs": [],
   "source": []
  }
 ],
 "metadata": {
  "kernelspec": {
   "display_name": "Python 2",
   "language": "python",
   "name": "python2"
  },
  "language_info": {
   "codemirror_mode": {
    "name": "ipython",
    "version": 2
   },
   "file_extension": ".py",
   "mimetype": "text/x-python",
   "name": "python",
   "nbconvert_exporter": "python",
   "pygments_lexer": "ipython2",
   "version": "2.7.10"
  }
 },
 "nbformat": 4,
 "nbformat_minor": 0
}
