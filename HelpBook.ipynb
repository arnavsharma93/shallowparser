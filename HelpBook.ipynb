{
 "cells": [
  {
   "cell_type": "code",
   "execution_count": 5,
   "metadata": {
    "collapsed": false
   },
   "outputs": [],
   "source": [
    "filename = \"./data/dataset.txt\"\n",
    "data = []\n",
    "target = []\n",
    "\n",
    "cdata = []\n",
    "ctarget = []\n",
    "pos_tags = set()\n",
    "ln = 0\n",
    "for line in open(filename):\n",
    "    line = line.strip()\n",
    "    if line:\n",
    "        line = line.split('\\t')\n",
    "        if len(line) != 5:\n",
    "            print ln\n",
    "            print line\n",
    "    ln += 1\n",
    "#         cdata.append(np.array(line[:-1]))\n",
    "#         ctarget.append(line[-1])\n",
    "#         pos_tags.add(line[-1])\n",
    "#     else:\n",
    "#         if cdata or ctarget:\n",
    "#             data.append(np.array(cdata))\n",
    "#             target.append(ctarget)\n",
    "#             cdata = list()\n",
    "#             ctarget = list()\n",
    "# if cdata or ctarget:\n",
    "#     data.append(np.array(cdata))\n",
    "#     target.append(ctarget)\n",
    "#     cdata = list()\n",
    "#     ctarget = list()\n"
   ]
  },
  {
   "cell_type": "code",
   "execution_count": null,
   "metadata": {
    "collapsed": true
   },
   "outputs": [],
   "source": []
  }
 ],
 "metadata": {
  "kernelspec": {
   "display_name": "Python 2",
   "language": "python",
   "name": "python2"
  },
  "language_info": {
   "codemirror_mode": {
    "name": "ipython",
    "version": 2
   },
   "file_extension": ".py",
   "mimetype": "text/x-python",
   "name": "python",
   "nbconvert_exporter": "python",
   "pygments_lexer": "ipython2",
   "version": "2.7.10"
  }
 },
 "nbformat": 4,
 "nbformat_minor": 0
}
