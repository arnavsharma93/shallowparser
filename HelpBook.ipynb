{
 "cells": [
  {
   "cell_type": "code",
   "execution_count": 1,
   "metadata": {
    "collapsed": true
   },
   "outputs": [],
   "source": [
    "from codemixeddata import LoadDataSet\n",
    "import posfeatures as pos\n",
    "import lidffeatures as lidf\n",
    "import chunkfeatures as chunk\n",
    "from pipeline import *\n",
    "from customutils import *\n",
    "from sklearn_crfsuite import scorers, metrics, CRF\n",
    "import numpy as np\n",
    "from sklearn.cross_validation import cross_val_score, cross_val_predict\n",
    "from sklearn.pipeline import Pipeline\n",
    "import pandas as pd"
   ]
  },
  {
   "cell_type": "code",
   "execution_count": 2,
   "metadata": {
    "collapsed": false
   },
   "outputs": [],
   "source": [
    "create_dataset_with_features_file()"
   ]
  },
  {
   "cell_type": "code",
   "execution_count": 7,
   "metadata": {
    "collapsed": false
   },
   "outputs": [
    {
     "name": "stdout",
     "output_type": "stream",
     "text": [
      "तेरी\n",
      "werI\n"
     ]
    }
   ],
   "source": [
    "from irtrans import transliterator\n",
    "from converter_indic import wxConvert\n",
    "import codecs\n",
    "con = wxConvert(order='utf2wx', lang='hin')\n",
    "trn = transliterator(source='eng', target='hin')\n",
    "sent = 'aese teri'\n",
    "utf_sent = trn.transform(sent)\n",
    "print utf_sent\n",
    "wx_sent = con.convert(utf_sent).decode('utf-8')\n",
    "print wx_sent"
   ]
  },
  {
   "cell_type": "code",
   "execution_count": 4,
   "metadata": {
    "collapsed": false,
    "scrolled": true
   },
   "outputs": [],
   "source": []
  },
  {
   "cell_type": "code",
   "execution_count": 6,
   "metadata": {
    "collapsed": false
   },
   "outputs": [
    {
     "name": "stdout",
     "output_type": "stream",
     "text": [
      "werI\n"
     ]
    }
   ],
   "source": [
    "print wx_sent"
   ]
  },
  {
   "cell_type": "code",
   "execution_count": null,
   "metadata": {
    "collapsed": true
   },
   "outputs": [],
   "source": [
    "for word in wx_sent.split"
   ]
  }
 ],
 "metadata": {
  "kernelspec": {
   "display_name": "Python 2",
   "language": "python",
   "name": "python2"
  },
  "language_info": {
   "codemirror_mode": {
    "name": "ipython",
    "version": 2
   },
   "file_extension": ".py",
   "mimetype": "text/x-python",
   "name": "python",
   "nbconvert_exporter": "python",
   "pygments_lexer": "ipython2",
   "version": "2.7.10"
  }
 },
 "nbformat": 4,
 "nbformat_minor": 0
}
