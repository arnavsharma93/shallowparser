{
 "cells": [
  {
   "cell_type": "code",
   "execution_count": 1,
   "metadata": {
    "collapsed": false
   },
   "outputs": [],
   "source": [
    "from codemixeddata import *\n",
    "import posfeatures as pos\n",
    "import lidffeatures as lidf\n",
    "from pipeline import *\n",
    "from customutils import *\n",
    "from sklearn_crfsuite import scorers, metrics, CRF\n",
    "import numpy as np\n",
    "from sklearn.cross_validation import cross_val_score\n",
    "from sklearn.pipeline import Pipeline\n",
    "import pandas as pd"
   ]
  },
  {
   "cell_type": "markdown",
   "metadata": {},
   "source": [
    "### Shallow Parser accuracy with gold pos, gold normalization, gold language id."
   ]
  },
  {
   "cell_type": "code",
   "execution_count": 11,
   "metadata": {
    "collapsed": false
   },
   "outputs": [],
   "source": [
    "X, y = LoadDataSet(xlabels=['WORD', 'LANG', 'NORM', 'POS'], ylabel='CHUNK')"
   ]
  },
  {
   "cell_type": "code",
   "execution_count": 12,
   "metadata": {
    "collapsed": false
   },
   "outputs": [],
   "source": [
    "results = cross_val_score(CRF(), X, y, scorers.flat_accuracy, cv=10, n_jobs=-1)"
   ]
  },
  {
   "cell_type": "markdown",
   "metadata": {},
   "source": [
    "Accuracy {{'%.2f' % (results.mean() * 100)}}"
   ]
  },
  {
   "cell_type": "markdown",
   "metadata": {},
   "source": [
    "## Language Identification"
   ]
  },
  {
   "cell_type": "code",
   "execution_count": 2,
   "metadata": {
    "collapsed": false
   },
   "outputs": [],
   "source": [
    "X, y = LoadDataSetWFeatures(xlabels=['WORD', 'POSITION', 'EPOS', 'EPOSSCORE'], ylabel='LANG')"
   ]
  },
  {
   "cell_type": "code",
   "execution_count": 3,
   "metadata": {
    "collapsed": false
   },
   "outputs": [],
   "source": [
    "features = FeatureStacker([ #('lex', lidf.AddLexTransformer()),\n",
    "#                            ('position', lidf.AddPositionTransformer()),\n",
    "                            ('bnc_count', lidf.BNCCountsTransformer()),\n",
    "                            ('lex_norm', lidf.LexNormCountsTransformer()),\n",
    "                            ('in_bnc_or_lexnorm', lidf.LexNormBNCSpecialTransformer()),\n",
    "                            ('hindi_dict', lidf.HindiDictionaryCountsTransformer()),\n",
    "#                            ('word_length', lidf.WordLengthTransformer()),\n",
    "                            ('capitalization', lidf.CapitalizationTransformer()),\n",
    "                            ('cngram', lidf.CharacterNgramTransformer()),\n",
    "                            ('en_rest_pos', lidf.PoSTransformer()),\n",
    "                            ('en_rest_pos_confidence', lidf.PoSConfidenceTransformer()),\n",
    "                            ('affixes', pos.AffixesTransformer())\n",
    "                          ])\n",
    "\n",
    "model = Pipeline([\n",
    "        ('features', features),\n",
    "        ('classifier', CRF())\n",
    "    ])"
   ]
  },
  {
   "cell_type": "code",
   "execution_count": 4,
   "metadata": {
    "collapsed": false
   },
   "outputs": [],
   "source": [
    "lidf_acc = cross_val_score(model, X, y, scorers.flat_accuracy, cv=10, n_jobs=-1)"
   ]
  },
  {
   "cell_type": "markdown",
   "metadata": {},
   "source": [
    "Accuracy {{'%.2f' % (lidf_acc.mean() * 100)}}"
   ]
  },
  {
   "cell_type": "markdown",
   "metadata": {},
   "source": [
    "## POS tagger"
   ]
  },
  {
   "cell_type": "code",
   "execution_count": 2,
   "metadata": {
    "collapsed": false
   },
   "outputs": [],
   "source": [
    "X, y = LoadDataSetWFeatures(xlabels=['WORD', 'POSITION', 'EPOS', 'EPOSSCORE', 'LANG', 'WX'], ylabel='POS')"
   ]
  },
  {
   "cell_type": "code",
   "execution_count": 4,
   "metadata": {
    "collapsed": false
   },
   "outputs": [],
   "source": [
    "X = run_step(X, None, 'WX')"
   ]
  },
  {
   "cell_type": "code",
   "execution_count": 7,
   "metadata": {
    "collapsed": false
   },
   "outputs": [
    {
     "data": {
      "text/plain": [
       "Pipeline(steps=[('features', FeatureStacker(transformer_list=[('lex', AddLexTransformer()), ('gold_lang', GoldLangTransformer()), ('en_rest_pos', PoSTransformer(ignore=False)), ('en_rest_pos_confidence', PoSConfidenceTransformer(ignore=False)), ('affixes', AffixesTransformer(form=1, prefix_len=5, suffix_len=...\n",
       "  num_memories=None, pa_type=None, period=None, trainer_cls=None,\n",
       "  variance=None, verbose=False))])"
      ]
     },
     "execution_count": 7,
     "metadata": {},
     "output_type": "execute_result"
    }
   ],
   "source": [
    "features = FeatureStacker([ ('lex', pos.AddLexTransformer()),\n",
    "                            ('gold_lang', pos.GoldLangTransformer()),\n",
    "                            ('en_rest_pos', pos.PoSTransformer()),\n",
    "                            ('en_rest_pos_confidence', pos.PoSConfidenceTransformer()), \n",
    "                            ('affixes', pos.AffixesTransformer()),\n",
    "                            ('en_clusters', pos.HWCTransformer()),\n",
    "                          ])\n",
    "\n",
    "model = Pipeline([\n",
    "        ('features', features),\n",
    "        ('classifier', CRF())\n",
    "    ])\n",
    "model.set_params(features__affixes__form=1)"
   ]
  },
  {
   "cell_type": "code",
   "execution_count": 8,
   "metadata": {
    "collapsed": false
   },
   "outputs": [],
   "source": [
    "pos_acc = cross_val_score(model, X, y, scorers.flat_accuracy, cv=10, n_jobs=-1)"
   ]
  },
  {
   "cell_type": "markdown",
   "metadata": {
    "variables": {
     "'%.2f' % (pos_acc.mean() * 100)": "68.12"
    }
   },
   "source": [
    "Accuracy {{'%.2f' % (pos_acc.mean() * 100)}}"
   ]
  },
  {
   "cell_type": "code",
   "execution_count": null,
   "metadata": {
    "collapsed": true
   },
   "outputs": [],
   "source": []
  }
 ],
 "metadata": {
  "kernelspec": {
   "display_name": "Python 2",
   "language": "python",
   "name": "python2"
  },
  "language_info": {
   "codemirror_mode": {
    "name": "ipython",
    "version": 2
   },
   "file_extension": ".py",
   "mimetype": "text/x-python",
   "name": "python",
   "nbconvert_exporter": "python",
   "pygments_lexer": "ipython2",
   "version": "2.7.10"
  }
 },
 "nbformat": 4,
 "nbformat_minor": 0
}
