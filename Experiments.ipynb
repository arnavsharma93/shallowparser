{
 "cells": [
  {
   "cell_type": "code",
   "execution_count": 17,
   "metadata": {
    "collapsed": false
   },
   "outputs": [],
   "source": [
    "from codemixeddata import *\n",
    "from customclassifiers import *\n",
    "from preprocessor import *\n",
    "import posfeatures as pos\n",
    "import lidffeatures as lidf\n",
    "from pipeline import *\n",
    "from customutils import *\n",
    "from sklearn_crfsuite import scorers, metrics, CRF\n",
    "import numpy as np\n",
    "from sklearn.cross_validation import cross_val_score, train_test_split\n",
    "from sklearn.pipeline import Pipeline\n",
    "import pandas as pd\n",
    "from sklearn.base import BaseEstimator\n",
    "import random"
   ]
  },
  {
   "cell_type": "code",
   "execution_count": 5,
   "metadata": {
    "collapsed": true
   },
   "outputs": [],
   "source": [
    "create_dataset_with_features_file(rerun_pos_tagger=True)"
   ]
  },
  {
   "cell_type": "code",
   "execution_count": null,
   "metadata": {
    "collapsed": false
   },
   "outputs": [],
   "source": [
    "X, y = LoadDataSet(xlabels=['WORD', 'LANG', 'NORM', 'POS'], ylabel='CHUNK')"
   ]
  },
  {
   "cell_type": "code",
   "execution_count": null,
   "metadata": {
    "collapsed": false
   },
   "outputs": [],
   "source": [
    "X = run_step(X, NormEstimator(script=1, rebuild=True), 'NORM')"
   ]
  },
  {
   "cell_type": "markdown",
   "metadata": {},
   "source": [
    "### Shallow Parser accuracy with gold pos, gold normalization, gold language id."
   ]
  },
  {
   "cell_type": "code",
   "execution_count": null,
   "metadata": {
    "collapsed": false
   },
   "outputs": [],
   "source": [
    "X, y = LoadDataSet(xlabels=['WORD', 'LANG', 'NORM', 'POS'], ylabel='CHUNK')"
   ]
  },
  {
   "cell_type": "code",
   "execution_count": null,
   "metadata": {
    "collapsed": false
   },
   "outputs": [],
   "source": [
    "results = cross_val_score(CRF(), X, y, scorers.flat_accuracy, cv=10, n_jobs=-1)"
   ]
  },
  {
   "cell_type": "markdown",
   "metadata": {},
   "source": [
    "Accuracy {{'%.2f' % (results.mean() * 100)}}"
   ]
  },
  {
   "cell_type": "markdown",
   "metadata": {},
   "source": [
    "## Language Identification"
   ]
  },
  {
   "cell_type": "code",
   "execution_count": 18,
   "metadata": {
    "collapsed": false
   },
   "outputs": [],
   "source": [
    "X, y = LoadDataSetWFeatures(xlabels=['WORD', 'EPOS', 'EPOSSCORE', 'POSITION'], ylabel='LANG')"
   ]
  },
  {
   "cell_type": "code",
   "execution_count": 19,
   "metadata": {
    "collapsed": false
   },
   "outputs": [],
   "source": [
    "features = FeatureStacker([#('lex', lidf.AddLexTransformer()),\n",
    "#                            ('position', lidf.AddPositionTransformer()),\n",
    "                            ('bnc_count', lidf.BNCCountsTransformer()),\n",
    "                            ('lex_norm', lidf.LexNormCountsTransformer()),\n",
    "                            ('in_bnc_or_lexnorm', lidf.LexNormBNCSpecialTransformer()),  \n",
    "                            ('hindi_dict', lidf.HindiDictionaryCountsTransformer()),\n",
    "#                            ('word_length', lidf.WordLengthTransformer()),\n",
    "                            ('capitalization', lidf.CapitalizationTransformer()),\n",
    "                            ('cngram', lidf.CharacterNgramTransformer()),\n",
    "#                            ('en_rest_pos', lidf.PoSTransformer()),\n",
    "#                            ('en_rest_pos_confidence', lidf.PoSConfidenceTransformer()),\n",
    "                            ('affixes', lidf.AffixesTransformer())\n",
    "                          ])\n",
    "\n",
    "model = Pipeline([\n",
    "        ('features', features),\n",
    "        ('classifier', CRF())\n",
    "    ])\n",
    "\n",
    "#model.set_params(features__cngram__indices=range(1,4))"
   ]
  },
  {
   "cell_type": "code",
   "execution_count": 8,
   "metadata": {
    "collapsed": false
   },
   "outputs": [],
   "source": [
    "lidf_acc = cross_val_score(model, X, y, scorers.flat_accuracy, cv=10, n_jobs=-1)"
   ]
  },
  {
   "cell_type": "markdown",
   "metadata": {
    "variables": {
     "'%.2f' % (lidf_acc.mean() * 100)": "94.10"
    }
   },
   "source": [
    "Accuracy {{'%.2f' % (lidf_acc.mean() * 100)}}"
   ]
  },
  {
   "cell_type": "markdown",
   "metadata": {},
   "source": [
    "## POS tagger"
   ]
  },
  {
   "cell_type": "code",
   "execution_count": 14,
   "metadata": {
    "collapsed": false
   },
   "outputs": [],
   "source": [
    "X, y = LoadDataSetWFeatures(xlabels=['WORD', 'POSITION', 'EPOS', 'EPOSSCORE', 'LANG', 'NORM', 'HPOS_GOLD', 'HPOS_PRED'], ylabel='POS')"
   ]
  },
  {
   "cell_type": "code",
   "execution_count": 16,
   "metadata": {
    "collapsed": false
   },
   "outputs": [],
   "source": [
    "X, y = PruneSentencesPreprocessor(X, y)"
   ]
  },
  {
   "cell_type": "code",
   "execution_count": 11,
   "metadata": {
    "collapsed": false
   },
   "outputs": [],
   "source": [
    "X = run_step(X, NormEstimator(script=1, rebuild=True), 'NORM')"
   ]
  },
  {
   "cell_type": "code",
   "execution_count": 15,
   "metadata": {
    "collapsed": false
   },
   "outputs": [
    {
     "data": {
      "text/plain": [
       "Pipeline(steps=[('features', FeatureStacker(transformer_list=[('lex', AddLexTransformer()), ('gold_lang', GoldLangTransformer()), ('en_rest_pos', EnRestPoSTransformer(ignore=False)), ('hi_pos', HiPoSTransformer(gold=True, ignore=False)), ('normlex', NormLexTransformer(ignore=False)), ('en_rest_pos_confidence...\n",
       "  num_memories=None, pa_type=None, period=None, trainer_cls=None,\n",
       "  variance=None, verbose=False))])"
      ]
     },
     "execution_count": 15,
     "metadata": {},
     "output_type": "execute_result"
    }
   ],
   "source": [
    "features = FeatureStacker([ ('lex', pos.AddLexTransformer()),\n",
    "                            ('gold_lang', pos.GoldLangTransformer()),\n",
    "                            ('en_rest_pos', pos.EnRestPoSTransformer()),\n",
    "#                            ('combined_pos', pos.CombinedPoSTransformer()),                               \n",
    "                            ('hi_pos', pos.HiPoSTransformer()),\n",
    "                            ('normlex', pos.NormLexTransformer()),                            \n",
    "                            ('en_rest_pos_confidence', pos.PoSConfidenceTransformer()), \n",
    "                            ('affixes', pos.AffixesTransformer()),\n",
    "                            ('en_clusters', pos.HWCTransformer()),\n",
    "                          ])\n",
    "\n",
    "model = Pipeline([\n",
    "        ('features', features),\n",
    "        ('classifier', CRF())\n",
    "    ])\n",
    "model.set_params(features__affixes__form=1, features__hi_pos__gold=True)"
   ]
  },
  {
   "cell_type": "code",
   "execution_count": 16,
   "metadata": {
    "collapsed": false
   },
   "outputs": [],
   "source": [
    "pos_acc = cross_val_score(model, X, y, scorers.flat_accuracy, cv=10, n_jobs=-1)"
   ]
  },
  {
   "cell_type": "markdown",
   "metadata": {
    "variables": {
     "'%.2f' % (pos_acc.mean() * 100)": "70.49"
    }
   },
   "source": [
    "Accuracy {{'%.2f' % (pos_acc.mean() * 100)}}"
   ]
  },
  {
   "cell_type": "code",
   "execution_count": null,
   "metadata": {
    "collapsed": true
   },
   "outputs": [],
   "source": []
  }
 ],
 "metadata": {
  "kernelspec": {
   "display_name": "Python 2",
   "language": "python",
   "name": "python2"
  },
  "language_info": {
   "codemirror_mode": {
    "name": "ipython",
    "version": 2
   },
   "file_extension": ".py",
   "mimetype": "text/x-python",
   "name": "python",
   "nbconvert_exporter": "python",
   "pygments_lexer": "ipython2",
   "version": "2.7.10"
  }
 },
 "nbformat": 4,
 "nbformat_minor": 0
}
